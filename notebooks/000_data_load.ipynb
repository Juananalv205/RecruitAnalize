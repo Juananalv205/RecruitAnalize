{
 "cells": [
  {
   "cell_type": "code",
   "execution_count": 1,
   "metadata": {},
   "outputs": [],
   "source": [
    "import sys\n",
    "import os\n",
    "import pandas as pd\n",
    "sys.path.append(os.path.abspath(os.path.join('..', 'src')))\n",
    "from data.load_data import LoadData\n",
    "from data.database import MysqlConnection"
   ]
  },
  {
   "cell_type": "code",
   "execution_count": 2,
   "metadata": {},
   "outputs": [],
   "source": [
    "#Cargar datos locales a la base de datos\n",
    "Load = LoadData()\n",
    "\n",
    "#Load.insert_data_from_dataframe(\"../sql/queries/insert_data.sql\", \"../sql/queries/get_rows.sql\",\"staging_candidates\",pd.read_csv(\"../data/raw/candidates (1).csv\", sep=\";\"))"
   ]
  },
  {
   "cell_type": "code",
   "execution_count": 9,
   "metadata": {},
   "outputs": [
    {
     "name": "stdout",
     "output_type": "stream",
     "text": [
      "Utilizando Conexión a MySQL\n",
      " Numero de registros: [(50000,)]\n"
     ]
    },
    {
     "data": {
      "text/plain": [
       "'Conexión cerrada'"
      ]
     },
     "execution_count": 9,
     "metadata": {},
     "output_type": "execute_result"
    }
   ],
   "source": [
    "#Verificar que se hayan subido correctamente los datos\n",
    "mysql = MysqlConnection()\n",
    "query = mysql.open_query(\"../sql/queries/count_data.sql\", \"staging_candidates\")\n",
    "\n",
    "mysql.open_connection()\n",
    "print(f\" Numero de registros: {mysql.run_select_query(query)}\")\n",
    "mysql.close_connection()\n"
   ]
  }
 ],
 "metadata": {
  "kernelspec": {
   "display_name": "venv",
   "language": "python",
   "name": "python3"
  },
  "language_info": {
   "codemirror_mode": {
    "name": "ipython",
    "version": 3
   },
   "file_extension": ".py",
   "mimetype": "text/x-python",
   "name": "python",
   "nbconvert_exporter": "python",
   "pygments_lexer": "ipython3",
   "version": "3.12.0"
  }
 },
 "nbformat": 4,
 "nbformat_minor": 2
}
